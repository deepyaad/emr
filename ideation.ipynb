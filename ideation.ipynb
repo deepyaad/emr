{
 "cells": [
  {
   "cell_type": "markdown",
   "id": "78d7c632",
   "metadata": {},
   "source": [
    "- propose improved UX + LLMS in EMRs. improved EMR proposal: create hardware like dictaphone that transfers voice to text notes, intuitively organizes documentation to correlate to respective patient, hippaa compliance, provides summaries for transitions shifts to reduce documentation bottlenecks to be less cumbersome"
   ]
  }
 ],
 "metadata": {
  "language_info": {
   "name": "python"
  }
 },
 "nbformat": 4,
 "nbformat_minor": 5
}
